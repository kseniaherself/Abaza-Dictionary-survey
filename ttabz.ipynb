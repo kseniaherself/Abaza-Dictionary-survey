{
 "cells": [
  {
   "cell_type": "markdown",
   "metadata": {},
   "source": [
    "# Abazinka dictionary crowler"
   ]
  },
  {
   "cell_type": "markdown",
   "metadata": {},
   "source": [
    "___Ksenia R.___"
   ]
  },
  {
   "cell_type": "markdown",
   "metadata": {},
   "source": [
    "Crowler to fill in certain columns in the final table. "
   ]
  },
  {
   "cell_type": "markdown",
   "metadata": {},
   "source": [
    "**Plan**\n",
    "- get links automatically\n",
    "- select and load relevant pages\n",
    "- work with the files and fill in the table"
   ]
  },
  {
   "cell_type": "markdown",
   "metadata": {},
   "source": [
    "Request to the page of a letter (here: $a$). "
   ]
  },
  {
   "cell_type": "code",
   "execution_count": 1,
   "metadata": {},
   "outputs": [
    {
     "data": {
      "text/plain": [
       "<Response [200]>"
      ]
     },
     "execution_count": 1,
     "metadata": {},
     "output_type": "execute_result"
    }
   ],
   "source": [
    "import requests\n",
    "page = requests.get(\"http://abazinka.ru/ru/letter/А?\")\n",
    "page "
   ]
  },
  {
   "cell_type": "markdown",
   "metadata": {},
   "source": [
    "`200` means that the page downloaded successfully: "
   ]
  },
  {
   "cell_type": "code",
   "execution_count": 2,
   "metadata": {},
   "outputs": [],
   "source": [
    "# неактуально до тех пор пока всё работает как нужно \n",
    "\n",
    "# page.status_code "
   ]
  },
  {
   "cell_type": "code",
   "execution_count": 3,
   "metadata": {},
   "outputs": [],
   "source": [
    "# большая выдача, неактуально \n",
    "# выдаёт содержимое страницы \n",
    "\n",
    "# page.content"
   ]
  },
  {
   "cell_type": "code",
   "execution_count": 4,
   "metadata": {},
   "outputs": [],
   "source": [
    "from bs4 import BeautifulSoup\n",
    "soup = BeautifulSoup(page.content, 'html.parser')\n",
    "# soup.find_all('a')"
   ]
  },
  {
   "cell_type": "markdown",
   "metadata": {},
   "source": [
    "Then I get the parts of useful links:\n",
    "- only with `russian` in its link (the word pages)\n",
    "- only verbs, i.e. words ending with `-ра` which is masdar, verb dictionary entry marker\n",
    "\n",
    "Example output: \n",
    ">/abaza/russian/а зунагIвахара  \n",
    ">/abaza/russian/а сара  \n",
    ">/abaza/russian/а-ахьарпара  \n",
    ">/abaza/russian/а-ацыцындра  \n",
    ">/abaza/russian/а-жьгара  \n",
    ">/abaza/russian/а-расатара  \n",
    ">/abaza/russian/а-сахьхэыра  \n",
    ">/abaza/russian/а-цыбра  \n",
    ">/abaza/russian/а-цыцындра  \n",
    ">/abaza/russian/абабалара"
   ]
  },
  {
   "cell_type": "code",
   "execution_count": 5,
   "metadata": {},
   "outputs": [],
   "source": [
    "# получаю ссылки на словарные статьи с глаголами \n",
    "\n",
    "link_prim = '' \n",
    "for link in soup.findAll('a'):\n",
    "    new_link = (link.get('href'))\n",
    "    if 'russian' in new_link:       # dictionary page \n",
    "        if new_link.endswith('ра'):       # MSD for verbs \n",
    "            if new_link not in link_prim:\n",
    "                link_prim = link_prim + new_link + '\\n' \n",
    "    \n",
    "    #print (link.get('href'))"
   ]
  },
  {
   "cell_type": "code",
   "execution_count": 6,
   "metadata": {},
   "outputs": [],
   "source": [
    "# большая выдача, работает как нужно, \n",
    "# см. выше начало выдачи  \n",
    "\n",
    "# print(link_prim) "
   ]
  },
  {
   "cell_type": "markdown",
   "metadata": {},
   "source": [
    "Replacement of spaces to `%20` for link format, consider: [_http://abazinka.ru/abaza/russian/а%20ды-ды-дыд%20мыгIва_](http://abazinka.ru/abaza/russian/а%20ды-ды-дыд%20мыгIва)"
   ]
  },
  {
   "cell_type": "code",
   "execution_count": 7,
   "metadata": {},
   "outputs": [],
   "source": [
    "#for line in link_prim: \n",
    "link_prim = link_prim.replace(' ', '%20')  # 'murmurian'\n",
    "\n",
    "# большая выдача, работает как нужно \n",
    "# print(link_prim)"
   ]
  },
  {
   "cell_type": "markdown",
   "metadata": {},
   "source": [
    "**Консультация с DH специалистом**\n",
    "\n",
    "+ как лучше устроить цикл? \n",
    "\n",
    "    - ну ты можешь сохранять инфу по ходу, типа сохранять в json или типа того\n",
    "    - скачала одну нужную и созранила\n",
    "    - ничего не будет накапливаться, а когда надо будет, ты считаешь из файла\n",
    "\n",
    "+ ага, то есть создавать файлы лучше, чем одним циклом всё обработать?\n",
    "\n",
    "    + да, может чето отвалиться по ходу\n",
    "    + чтобы не начинать заново\n",
    "    + лучше запомниать, где ты останавливаешься"
   ]
  },
  {
   "cell_type": "code",
   "execution_count": 8,
   "metadata": {},
   "outputs": [],
   "source": [
    "link_l = link_prim.split('\\n')\n",
    "# большая выдача, работает как нужно \n",
    "# print(link_l)"
   ]
  },
  {
   "cell_type": "code",
   "execution_count": 9,
   "metadata": {},
   "outputs": [],
   "source": [
    "# проверка актуального номера \n",
    "# print(link_l[187])"
   ]
  },
  {
   "cell_type": "code",
   "execution_count": 10,
   "metadata": {},
   "outputs": [
    {
     "name": "stdout",
     "output_type": "stream",
     "text": [
      "5691\n"
     ]
    }
   ],
   "source": [
    "# проверка длины массива ссылок, чтобы дальше вставить в функцию range()\n",
    "print(len(link_l)) "
   ]
  },
  {
   "cell_type": "markdown",
   "metadata": {},
   "source": [
    "Now i work with link lists: \n",
    "- create links and open links\n",
    "- then i work only with the pages which contain number $2$ in them, i consider it as a marker of more than one meaning recorded.  \n",
    "- i recorde these pages in txt files in a folder for the letter, the name of the file is a word (with `%20` instead of spaces) `.txt` format\n",
    "- also i keep the list of words which are recorded `word_list` variable"
   ]
  },
  {
   "cell_type": "code",
   "execution_count": 11,
   "metadata": {},
   "outputs": [],
   "source": [
    "# тут создаются ссылки, открываются, проверяются, скачиваются \n",
    "\n",
    "link_start = 'http://abazinka.ru'\n",
    "link_full = '' \n",
    "word_list = []\n",
    "\n",
    "for i in range(0, 5690): # 272/7 # 180 5690\n",
    "    # print(str(link_l[i]))\n",
    "    link_full = link_start + str(link_l[i])\n",
    "    # print(link_full)\n",
    "    \n",
    "    dict_page = requests.get(link_full)\n",
    "    # print(dict_page)\n",
    "    # dict_page.encoding = 'utf-8'  # указываем правильную кодировку принудительно\n",
    "    d_p_text = (dict_page.text) \n",
    "    # print(d_p_text) \n",
    "    \n",
    "    if '2' in d_p_text: \n",
    "        f_name = str(link_l[i]).split('/')\n",
    "        word_list.append(f_name[3])\n",
    "        \n",
    "        # f_name = '/Users/ksenia/Desktop/hse/MA courses/практика/a_letter/' + str(f_name[2]) + '.txt'\n",
    "        f_name = 'a_letter/' + str(f_name[3]) + '.txt'\n",
    "        # print(f_name) \n",
    "        \n",
    "        f = open(f_name, 'w')\n",
    "        f.write(d_p_text)\n",
    "        f.close()\n",
    "        # print(d_p_text)\n"
   ]
  },
  {
   "cell_type": "markdown",
   "metadata": {},
   "source": [
    "**Here i create two files with:**\n",
    "- simple text file with list of words `wordlist.txt`\n",
    "- a first version of the table `table_words.tsv` with enumeration and headers\n",
    "    - Verb ID\n",
    "    - Verb (dictionary entry)\n",
    "    - Root\n",
    "    - Meaning of the root (if known)\n",
    "    - Glossing of the verb form (if possible)\n",
    "    - Sense 1\n",
    "    - Example for the Sense 1 (if available)\n",
    "    - Sense 2\n",
    "    - Example for the Sense 2 (if available)\n",
    "    - Semantic shift\n",
    "    - Comments1\n",
    "    - Comments2"
   ]
  },
  {
   "cell_type": "code",
   "execution_count": 15,
   "metadata": {},
   "outputs": [],
   "source": [
    "# сохраню в отдельный файл слова, чтобы заново не запускать предыдущий цикл \n",
    "# print(word_list) \n",
    "\n",
    "fi = open('wordlist.txt', 'w')\n",
    "table_1 = open('table_words.tsv', 'w')\n",
    "table_1.write('Verb ID\tVerb (dictionary entry)\tRoot\tMeaning of the root (if known)\tGlossing of the verb form (if possible)\tSense 1\tExample for the Sense 1 (if available)\tSense 2\tExample for the Sense 2 (if available)\tSemantic shift\tComments1\tComments2')\n",
    "num = 0\n",
    "\n",
    "for elem in word_list:\n",
    "    num = num + 1\n",
    "    elem_s = str(elem).replace('%20', ' ')  # 'murmurian'\n",
    "    \n",
    "    fi.write(elem_s + '\\n')\n",
    "    table_1.write('\\n' + str(num) + '\\t' + elem_s + '\\t' + '\\t' + '\\t' + '\\t' + '\\t' + '\\t' + '\\t' + '\\t' + '\\t' + '\\t')\n",
    "\n",
    "fi.close()\n",
    "table_1.close()"
   ]
  },
  {
   "cell_type": "code",
   "execution_count": null,
   "metadata": {},
   "outputs": [],
   "source": [
    "# Далее: обработка и записывание в таблицу "
   ]
  },
  {
   "cell_type": "code",
   "execution_count": null,
   "metadata": {},
   "outputs": [],
   "source": []
  },
  {
   "cell_type": "code",
   "execution_count": null,
   "metadata": {},
   "outputs": [],
   "source": []
  },
  {
   "cell_type": "code",
   "execution_count": null,
   "metadata": {},
   "outputs": [],
   "source": []
  }
 ],
 "metadata": {
  "kernelspec": {
   "display_name": "Python 3",
   "language": "python",
   "name": "python3"
  },
  "language_info": {
   "codemirror_mode": {
    "name": "ipython",
    "version": 3
   },
   "file_extension": ".py",
   "mimetype": "text/x-python",
   "name": "python",
   "nbconvert_exporter": "python",
   "pygments_lexer": "ipython3",
   "version": "3.8.5"
  }
 },
 "nbformat": 4,
 "nbformat_minor": 4
}
